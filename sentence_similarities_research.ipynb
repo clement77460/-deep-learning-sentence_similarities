{
  "nbformat": 4,
  "nbformat_minor": 0,
  "metadata": {
    "colab": {
      "name": "hamidov_jaworski_kaggle_project.ipynb",
      "provenance": [],
      "collapsed_sections": [],
      "toc_visible": true,
      "machine_shape": "hm"
    },
    "kernelspec": {
      "name": "python3",
      "display_name": "Python 3"
    },
    "accelerator": "TPU",
    "widgets": {
      "application/vnd.jupyter.widget-state+json": {
        "2d55f1200a8d4285a6e28afb8d73715a": {
          "model_module": "@jupyter-widgets/controls",
          "model_name": "HBoxModel",
          "state": {
            "_view_name": "HBoxView",
            "_dom_classes": [],
            "_model_name": "HBoxModel",
            "_view_module": "@jupyter-widgets/controls",
            "_model_module_version": "1.5.0",
            "_view_count": null,
            "_view_module_version": "1.5.0",
            "box_style": "",
            "layout": "IPY_MODEL_1c16d2a3975440ab8589fcde674cac11",
            "_model_module": "@jupyter-widgets/controls",
            "children": [
              "IPY_MODEL_abf3adc9e931464b80d1571f6e063a56",
              "IPY_MODEL_123ab17df3b34c4380a906429a4af78d"
            ]
          }
        },
        "1c16d2a3975440ab8589fcde674cac11": {
          "model_module": "@jupyter-widgets/base",
          "model_name": "LayoutModel",
          "state": {
            "_view_name": "LayoutView",
            "grid_template_rows": null,
            "right": null,
            "justify_content": null,
            "_view_module": "@jupyter-widgets/base",
            "overflow": null,
            "_model_module_version": "1.2.0",
            "_view_count": null,
            "flex_flow": null,
            "width": null,
            "min_width": null,
            "border": null,
            "align_items": null,
            "bottom": null,
            "_model_module": "@jupyter-widgets/base",
            "top": null,
            "grid_column": null,
            "overflow_y": null,
            "overflow_x": null,
            "grid_auto_flow": null,
            "grid_area": null,
            "grid_template_columns": null,
            "flex": null,
            "_model_name": "LayoutModel",
            "justify_items": null,
            "grid_row": null,
            "max_height": null,
            "align_content": null,
            "visibility": null,
            "align_self": null,
            "height": null,
            "min_height": null,
            "padding": null,
            "grid_auto_rows": null,
            "grid_gap": null,
            "max_width": null,
            "order": null,
            "_view_module_version": "1.2.0",
            "grid_template_areas": null,
            "object_position": null,
            "object_fit": null,
            "grid_auto_columns": null,
            "margin": null,
            "display": null,
            "left": null
          }
        },
        "abf3adc9e931464b80d1571f6e063a56": {
          "model_module": "@jupyter-widgets/controls",
          "model_name": "IntProgressModel",
          "state": {
            "_view_name": "ProgressView",
            "style": "IPY_MODEL_3408eb8aaa474fb7b8989848ea4dbd9c",
            "_dom_classes": [],
            "description": "",
            "_model_name": "IntProgressModel",
            "bar_style": "success",
            "max": 1,
            "_view_module": "@jupyter-widgets/controls",
            "_model_module_version": "1.5.0",
            "value": 1,
            "_view_count": null,
            "_view_module_version": "1.5.0",
            "orientation": "horizontal",
            "min": 0,
            "description_tooltip": null,
            "_model_module": "@jupyter-widgets/controls",
            "layout": "IPY_MODEL_5a378e657b1d408391873d8a2f409cdc"
          }
        },
        "123ab17df3b34c4380a906429a4af78d": {
          "model_module": "@jupyter-widgets/controls",
          "model_name": "HTMLModel",
          "state": {
            "_view_name": "HTMLView",
            "style": "IPY_MODEL_c9f1a15a53d841ffb96217adf39142d4",
            "_dom_classes": [],
            "description": "",
            "_model_name": "HTMLModel",
            "placeholder": "​",
            "_view_module": "@jupyter-widgets/controls",
            "_model_module_version": "1.5.0",
            "value": "2196018it [03:06, 11763.46it/s]",
            "_view_count": null,
            "_view_module_version": "1.5.0",
            "description_tooltip": null,
            "_model_module": "@jupyter-widgets/controls",
            "layout": "IPY_MODEL_003d0f38851d4728b605c94ed34efaf2"
          }
        },
        "3408eb8aaa474fb7b8989848ea4dbd9c": {
          "model_module": "@jupyter-widgets/controls",
          "model_name": "ProgressStyleModel",
          "state": {
            "_view_name": "StyleView",
            "_model_name": "ProgressStyleModel",
            "description_width": "",
            "_view_module": "@jupyter-widgets/base",
            "_model_module_version": "1.5.0",
            "_view_count": null,
            "_view_module_version": "1.2.0",
            "bar_color": null,
            "_model_module": "@jupyter-widgets/controls"
          }
        },
        "5a378e657b1d408391873d8a2f409cdc": {
          "model_module": "@jupyter-widgets/base",
          "model_name": "LayoutModel",
          "state": {
            "_view_name": "LayoutView",
            "grid_template_rows": null,
            "right": null,
            "justify_content": null,
            "_view_module": "@jupyter-widgets/base",
            "overflow": null,
            "_model_module_version": "1.2.0",
            "_view_count": null,
            "flex_flow": null,
            "width": null,
            "min_width": null,
            "border": null,
            "align_items": null,
            "bottom": null,
            "_model_module": "@jupyter-widgets/base",
            "top": null,
            "grid_column": null,
            "overflow_y": null,
            "overflow_x": null,
            "grid_auto_flow": null,
            "grid_area": null,
            "grid_template_columns": null,
            "flex": null,
            "_model_name": "LayoutModel",
            "justify_items": null,
            "grid_row": null,
            "max_height": null,
            "align_content": null,
            "visibility": null,
            "align_self": null,
            "height": null,
            "min_height": null,
            "padding": null,
            "grid_auto_rows": null,
            "grid_gap": null,
            "max_width": null,
            "order": null,
            "_view_module_version": "1.2.0",
            "grid_template_areas": null,
            "object_position": null,
            "object_fit": null,
            "grid_auto_columns": null,
            "margin": null,
            "display": null,
            "left": null
          }
        },
        "c9f1a15a53d841ffb96217adf39142d4": {
          "model_module": "@jupyter-widgets/controls",
          "model_name": "DescriptionStyleModel",
          "state": {
            "_view_name": "StyleView",
            "_model_name": "DescriptionStyleModel",
            "description_width": "",
            "_view_module": "@jupyter-widgets/base",
            "_model_module_version": "1.5.0",
            "_view_count": null,
            "_view_module_version": "1.2.0",
            "_model_module": "@jupyter-widgets/controls"
          }
        },
        "003d0f38851d4728b605c94ed34efaf2": {
          "model_module": "@jupyter-widgets/base",
          "model_name": "LayoutModel",
          "state": {
            "_view_name": "LayoutView",
            "grid_template_rows": null,
            "right": null,
            "justify_content": null,
            "_view_module": "@jupyter-widgets/base",
            "overflow": null,
            "_model_module_version": "1.2.0",
            "_view_count": null,
            "flex_flow": null,
            "width": null,
            "min_width": null,
            "border": null,
            "align_items": null,
            "bottom": null,
            "_model_module": "@jupyter-widgets/base",
            "top": null,
            "grid_column": null,
            "overflow_y": null,
            "overflow_x": null,
            "grid_auto_flow": null,
            "grid_area": null,
            "grid_template_columns": null,
            "flex": null,
            "_model_name": "LayoutModel",
            "justify_items": null,
            "grid_row": null,
            "max_height": null,
            "align_content": null,
            "visibility": null,
            "align_self": null,
            "height": null,
            "min_height": null,
            "padding": null,
            "grid_auto_rows": null,
            "grid_gap": null,
            "max_width": null,
            "order": null,
            "_view_module_version": "1.2.0",
            "grid_template_areas": null,
            "object_position": null,
            "object_fit": null,
            "grid_auto_columns": null,
            "margin": null,
            "display": null,
            "left": null
          }
        },
        "597666fc151a45a2874b2db255919761": {
          "model_module": "@jupyter-widgets/controls",
          "model_name": "HBoxModel",
          "state": {
            "_view_name": "HBoxView",
            "_dom_classes": [],
            "_model_name": "HBoxModel",
            "_view_module": "@jupyter-widgets/controls",
            "_model_module_version": "1.5.0",
            "_view_count": null,
            "_view_module_version": "1.5.0",
            "box_style": "",
            "layout": "IPY_MODEL_048003dd905f43598d1b61e1f7e17d8a",
            "_model_module": "@jupyter-widgets/controls",
            "children": [
              "IPY_MODEL_1e55acbe7ae549158721f4c97756b228",
              "IPY_MODEL_4bc5d4e5849146f59f0c0034c8c744a7"
            ]
          }
        },
        "048003dd905f43598d1b61e1f7e17d8a": {
          "model_module": "@jupyter-widgets/base",
          "model_name": "LayoutModel",
          "state": {
            "_view_name": "LayoutView",
            "grid_template_rows": null,
            "right": null,
            "justify_content": null,
            "_view_module": "@jupyter-widgets/base",
            "overflow": null,
            "_model_module_version": "1.2.0",
            "_view_count": null,
            "flex_flow": null,
            "width": null,
            "min_width": null,
            "border": null,
            "align_items": null,
            "bottom": null,
            "_model_module": "@jupyter-widgets/base",
            "top": null,
            "grid_column": null,
            "overflow_y": null,
            "overflow_x": null,
            "grid_auto_flow": null,
            "grid_area": null,
            "grid_template_columns": null,
            "flex": null,
            "_model_name": "LayoutModel",
            "justify_items": null,
            "grid_row": null,
            "max_height": null,
            "align_content": null,
            "visibility": null,
            "align_self": null,
            "height": null,
            "min_height": null,
            "padding": null,
            "grid_auto_rows": null,
            "grid_gap": null,
            "max_width": null,
            "order": null,
            "_view_module_version": "1.2.0",
            "grid_template_areas": null,
            "object_position": null,
            "object_fit": null,
            "grid_auto_columns": null,
            "margin": null,
            "display": null,
            "left": null
          }
        },
        "1e55acbe7ae549158721f4c97756b228": {
          "model_module": "@jupyter-widgets/controls",
          "model_name": "IntProgressModel",
          "state": {
            "_view_name": "ProgressView",
            "style": "IPY_MODEL_d73c7770c03b40eba566c41a1a6c843f",
            "_dom_classes": [],
            "description": "",
            "_model_name": "IntProgressModel",
            "bar_style": "success",
            "max": 1,
            "_view_module": "@jupyter-widgets/controls",
            "_model_module_version": "1.5.0",
            "value": 1,
            "_view_count": null,
            "_view_module_version": "1.5.0",
            "orientation": "horizontal",
            "min": 0,
            "description_tooltip": null,
            "_model_module": "@jupyter-widgets/controls",
            "layout": "IPY_MODEL_61fe0ae1f7f3430399a8c9d9a1c82a9e"
          }
        },
        "4bc5d4e5849146f59f0c0034c8c744a7": {
          "model_module": "@jupyter-widgets/controls",
          "model_name": "HTMLModel",
          "state": {
            "_view_name": "HTMLView",
            "style": "IPY_MODEL_f25bcf5fff8d452088ea4eba30eedea1",
            "_dom_classes": [],
            "description": "",
            "_model_name": "HTMLModel",
            "placeholder": "​",
            "_view_module": "@jupyter-widgets/controls",
            "_model_module_version": "1.5.0",
            "value": "2000001it [02:42, 12284.70it/s]",
            "_view_count": null,
            "_view_module_version": "1.5.0",
            "description_tooltip": null,
            "_model_module": "@jupyter-widgets/controls",
            "layout": "IPY_MODEL_eb03fbb650a24ed3b0aca6f850084732"
          }
        },
        "d73c7770c03b40eba566c41a1a6c843f": {
          "model_module": "@jupyter-widgets/controls",
          "model_name": "ProgressStyleModel",
          "state": {
            "_view_name": "StyleView",
            "_model_name": "ProgressStyleModel",
            "description_width": "",
            "_view_module": "@jupyter-widgets/base",
            "_model_module_version": "1.5.0",
            "_view_count": null,
            "_view_module_version": "1.2.0",
            "bar_color": null,
            "_model_module": "@jupyter-widgets/controls"
          }
        },
        "61fe0ae1f7f3430399a8c9d9a1c82a9e": {
          "model_module": "@jupyter-widgets/base",
          "model_name": "LayoutModel",
          "state": {
            "_view_name": "LayoutView",
            "grid_template_rows": null,
            "right": null,
            "justify_content": null,
            "_view_module": "@jupyter-widgets/base",
            "overflow": null,
            "_model_module_version": "1.2.0",
            "_view_count": null,
            "flex_flow": null,
            "width": null,
            "min_width": null,
            "border": null,
            "align_items": null,
            "bottom": null,
            "_model_module": "@jupyter-widgets/base",
            "top": null,
            "grid_column": null,
            "overflow_y": null,
            "overflow_x": null,
            "grid_auto_flow": null,
            "grid_area": null,
            "grid_template_columns": null,
            "flex": null,
            "_model_name": "LayoutModel",
            "justify_items": null,
            "grid_row": null,
            "max_height": null,
            "align_content": null,
            "visibility": null,
            "align_self": null,
            "height": null,
            "min_height": null,
            "padding": null,
            "grid_auto_rows": null,
            "grid_gap": null,
            "max_width": null,
            "order": null,
            "_view_module_version": "1.2.0",
            "grid_template_areas": null,
            "object_position": null,
            "object_fit": null,
            "grid_auto_columns": null,
            "margin": null,
            "display": null,
            "left": null
          }
        },
        "f25bcf5fff8d452088ea4eba30eedea1": {
          "model_module": "@jupyter-widgets/controls",
          "model_name": "DescriptionStyleModel",
          "state": {
            "_view_name": "StyleView",
            "_model_name": "DescriptionStyleModel",
            "description_width": "",
            "_view_module": "@jupyter-widgets/base",
            "_model_module_version": "1.5.0",
            "_view_count": null,
            "_view_module_version": "1.2.0",
            "_model_module": "@jupyter-widgets/controls"
          }
        },
        "eb03fbb650a24ed3b0aca6f850084732": {
          "model_module": "@jupyter-widgets/base",
          "model_name": "LayoutModel",
          "state": {
            "_view_name": "LayoutView",
            "grid_template_rows": null,
            "right": null,
            "justify_content": null,
            "_view_module": "@jupyter-widgets/base",
            "overflow": null,
            "_model_module_version": "1.2.0",
            "_view_count": null,
            "flex_flow": null,
            "width": null,
            "min_width": null,
            "border": null,
            "align_items": null,
            "bottom": null,
            "_model_module": "@jupyter-widgets/base",
            "top": null,
            "grid_column": null,
            "overflow_y": null,
            "overflow_x": null,
            "grid_auto_flow": null,
            "grid_area": null,
            "grid_template_columns": null,
            "flex": null,
            "_model_name": "LayoutModel",
            "justify_items": null,
            "grid_row": null,
            "max_height": null,
            "align_content": null,
            "visibility": null,
            "align_self": null,
            "height": null,
            "min_height": null,
            "padding": null,
            "grid_auto_rows": null,
            "grid_gap": null,
            "max_width": null,
            "order": null,
            "_view_module_version": "1.2.0",
            "grid_template_areas": null,
            "object_position": null,
            "object_fit": null,
            "grid_auto_columns": null,
            "margin": null,
            "display": null,
            "left": null
          }
        }
      }
    }
  },
  "cells": [
    {
      "cell_type": "markdown",
      "metadata": {
        "id": "PB4vmyJ7ggcv",
        "colab_type": "text"
      },
      "source": [
        "# Init the workspace"
      ]
    },
    {
      "cell_type": "code",
      "metadata": {
        "id": "3RjPC5ocoBFE",
        "colab_type": "code",
        "colab": {}
      },
      "source": [
        "\n",
        "#from google.colab import drive\n",
        "#drive.mount('/content/drive')\n"
      ],
      "execution_count": 0,
      "outputs": []
    },
    {
      "cell_type": "code",
      "metadata": {
        "id": "s5VTwoDUWOps",
        "colab_type": "code",
        "colab": {}
      },
      "source": [
        "import os\n",
        "import re\n",
        "import json\n",
        "import string\n",
        "import zipfile\n",
        "import operator \n",
        "import numpy as np\n",
        "import tensorflow\n",
        "from os import path\n",
        "from collections import Counter\n",
        "from urllib.request import urlretrieve\n",
        "import sklearn\n",
        "from sklearn.manifold import TSNE\n",
        "from nltk.tokenize.treebank import TreebankWordTokenizer\n",
        "%matplotlib inline\n",
        "import matplotlib.pyplot as plt\n",
        "import pandas as pd\n",
        "import numpy as np\n",
        "import time\n",
        "import gc\n",
        "import random\n",
        "from tqdm._tqdm_notebook import tqdm_notebook as tqdm\n",
        "\n",
        "from keras.preprocessing import text\n",
        "from keras.preprocessing.sequence import pad_sequences\n",
        "from keras.utils.vis_utils import plot_model\n",
        "from keras import optimizers\n",
        "from keras.layers import Dense, Input, LSTM, Embedding,Activation,Flatten,merge,TimeDistributed,CuDNNGRU,Bidirectional,BatchNormalization,Dropout\n",
        "from keras.layers.merge import concatenate\n",
        "from keras.models import Model\n",
        "from keras.callbacks import EarlyStopping, ModelCheckpoint\n",
        "from keras.layers import concatenate,subtract,add,maximum,multiply,Layer,Lambda\n",
        "from keras.backend import backend as K\n",
        "from keras import regularizers\n"
      ],
      "execution_count": 0,
      "outputs": []
    },
    {
      "cell_type": "code",
      "metadata": {
        "id": "HA1XAQo7_ObD",
        "colab_type": "code",
        "outputId": "bc4a8b08-5e20-45d6-bad4-4043810b1776",
        "colab": {
          "base_uri": "https://localhost:8080/",
          "height": 340
        }
      },
      "source": [
        "# Info on how to get your api key (kaggle.json) here: https://github.com/Kaggle/kaggle-api#api-credentials\n",
        "!pip install kaggle\n",
        "api_token = {\"username\":\"nopenoped \",\"key\":\"a257127ad645e140f0940f6556518e1a\"}\n",
        "\n",
        "os.environ['KAGGLE_USERNAME'] = \"nopenoped\"\n",
        "os.environ['KAGGLE_KEY'] = \"a257127ad645e140f0940f6556518e1a\"\n",
        "\n",
        "!mkdir /root/.kaggle\n",
        "!echo '{\"username\":\"nopenoped\",\"key\":\"a257127ad645e140f0940f6556518e1a\"}' > /root/.kaggle/kaggle.json\n",
        "!chmod 600 /root/.kaggle/kaggle.json\n",
        "if not os.path.exists(\"/content/datasets/kaggle-dataset\"):\n",
        "    os.makedirs(\"/content/datasets/kaggle-dataset\")\n",
        "\n",
        "os.chdir('/content/datasets/kaggle-dataset')\n",
        "!kaggle datasets download supertaz/pretrained-bert-including-scripts\n",
        "!kaggle datasets download -d yekenot/fasttext-crawl-300d-2m\n",
        "!kaggle datasets download -d takuok/glove840b300dtxt\n",
        "!kaggle competitions download -c efreiparisdeeplearning2019\n",
        "\n",
        "for file in os.listdir():\n",
        "    if(file.endswith('.zip')):\n",
        "      zip_ref = zipfile.ZipFile(file, 'r')\n",
        "      zip_ref.extractall()\n",
        "      zip_ref.close()"
      ],
      "execution_count": 0,
      "outputs": [
        {
          "output_type": "stream",
          "text": [
            "Requirement already satisfied: kaggle in /usr/local/lib/python3.6/dist-packages (1.5.6)\n",
            "Requirement already satisfied: requests in /usr/local/lib/python3.6/dist-packages (from kaggle) (2.21.0)\n",
            "Requirement already satisfied: tqdm in /usr/local/lib/python3.6/dist-packages (from kaggle) (4.28.1)\n",
            "Requirement already satisfied: python-dateutil in /usr/local/lib/python3.6/dist-packages (from kaggle) (2.6.1)\n",
            "Requirement already satisfied: urllib3<1.25,>=1.21.1 in /usr/local/lib/python3.6/dist-packages (from kaggle) (1.24.3)\n",
            "Requirement already satisfied: python-slugify in /usr/local/lib/python3.6/dist-packages (from kaggle) (4.0.0)\n",
            "Requirement already satisfied: certifi in /usr/local/lib/python3.6/dist-packages (from kaggle) (2019.11.28)\n",
            "Requirement already satisfied: six>=1.10 in /usr/local/lib/python3.6/dist-packages (from kaggle) (1.12.0)\n",
            "Requirement already satisfied: idna<2.9,>=2.5 in /usr/local/lib/python3.6/dist-packages (from requests->kaggle) (2.8)\n",
            "Requirement already satisfied: chardet<3.1.0,>=3.0.2 in /usr/local/lib/python3.6/dist-packages (from requests->kaggle) (3.0.4)\n",
            "Requirement already satisfied: text-unidecode>=1.3 in /usr/local/lib/python3.6/dist-packages (from python-slugify->kaggle) (1.3)\n",
            "mkdir: cannot create directory ‘/root/.kaggle’: File exists\n",
            "pretrained-bert-including-scripts.zip: Skipping, found more recently modified local copy (use --force to force download)\n",
            "fasttext-crawl-300d-2m.zip: Skipping, found more recently modified local copy (use --force to force download)\n",
            "glove840b300dtxt.zip: Skipping, found more recently modified local copy (use --force to force download)\n",
            "Warning: Looks like you're using an outdated API Version, please consider updating (server 1.5.6 / client 1.5.4)\n",
            "example_submission_test.csv: Skipping, found more recently modified local copy (use --force to force download)\n",
            "dataset_test_no_labels.csv.zip: Skipping, found more recently modified local copy (use --force to force download)\n",
            "dataset_train.csv.zip: Skipping, found more recently modified local copy (use --force to force download)\n"
          ],
          "name": "stdout"
        }
      ]
    },
    {
      "cell_type": "markdown",
      "metadata": {
        "id": "pxMtH4LogZoR",
        "colab_type": "text"
      },
      "source": [
        "# Creating a class to pre process the data\n",
        "\n",
        "---\n",
        "\n"
      ]
    },
    {
      "cell_type": "code",
      "metadata": {
        "id": "zVbsLYd6C_Eo",
        "colab_type": "code",
        "colab": {}
      },
      "source": [
        "class PreprocessingData:\n",
        "  def __init__(self):\n",
        "    symbols_to_delete = '\\n🍕\\r🐵😑\\xa0\\ue014\\t\\uf818\\uf04a\\xad😢🐶️\\uf0e0😜😎👊\\u200b\\u200e😁عدويهصقأناخلىبمغر😍💖💵Е👎😀😂\\u202a\\u202c🔥😄🏻💥ᴍʏʀᴇɴᴅᴏᴀᴋʜᴜʟᴛᴄᴘʙғᴊᴡɢ😋👏שלוםבי😱‼\\x81エンジ故障\\u2009🚌ᴵ͞🌟😊😳😧🙀😐😕\\u200f👍😮😃😘אעכח💩💯⛽🚄🏼ஜ😖ᴠ🚲‐😟😈💪🙏🎯🌹😇💔😡\\x7f👌ἐὶήιὲκἀίῃἴξ🙄Ｈ😠\\ufeff\\u2028😉😤⛺🙂\\u3000تحكسة👮💙فزط😏🍾🎉😞\\u2008🏾😅😭👻😥😔😓🏽🎆🍻🍽🎶🌺🤔😪\\x08‑🐰🐇🐱🙆😨🙃💕𝘊𝘦𝘳𝘢𝘵𝘰𝘤𝘺𝘴𝘪𝘧𝘮𝘣💗💚地獄谷улкнПоАН🐾🐕😆ה🔗🚽歌舞伎🙈😴🏿🤗🇺🇸мυтѕ⤵🏆🎃😩\\u200a🌠🐟💫💰💎эпрд\\x95🖐🙅⛲🍰🤐👆🙌\\u2002💛🙁👀🙊🙉\\u2004ˢᵒʳʸᴼᴷᴺʷᵗʰᵉᵘ\\x13🚬🤓\\ue602😵άοόςέὸתמדףנרךצט😒͝🆕👅👥👄🔄🔤👉👤👶👲🔛🎓\\uf0b7\\uf04c\\x9f\\x10成都😣⏺😌🤑🌏😯ех😲Ἰᾶὁ💞🚓🔔📚🏀👐\\u202d💤🍇\\ue613小土豆🏡❔⁉\\u202f👠》कर्मा🇹🇼🌸蔡英文🌞🎲レクサス😛外国人关系Сб💋💀🎄💜🤢َِьыгя不是\\x9c\\x9d🗑\\u2005💃📣👿༼つ༽😰ḷЗз▱ц￼🤣卖温哥华议会下降你失去所有的钱加拿大坏税骗子🐝ツ🎅\\x85🍺آإشء🎵🌎͟ἔ油别克🤡🤥😬🤧й\\u2003🚀🤴ʲшчИОРФДЯМюж😝🖑ὐύύ特殊作戦群щ💨圆明园קℐ🏈😺🌍⏏ệ🍔🐮🍁🍆🍑🌮🌯🤦\\u200d𝓒𝓲𝓿𝓵안영하세요ЖљКћ🍀😫🤤ῦ我出生在了可以说普通话汉语好极🎼🕺🍸🥂🗽🎇🎊🆘🤠👩🖒🚪天一家⚲\\u2006⚭⚆⬭⬯⏖新✀╌🇫🇷🇩🇪🇮🇬🇧😷🇨🇦ХШ🌐\\x1f杀鸡给猴看ʁ𝗪𝗵𝗲𝗻𝘆𝗼𝘂𝗿𝗮𝗹𝗶𝘇𝗯𝘁𝗰𝘀𝘅𝗽𝘄𝗱📺ϖ\\u2000үսᴦᎥһͺ\\u2007հ\\u2001ɩｙｅ൦ｌƽｈ𝐓𝐡𝐞𝐫𝐮𝐝𝐚𝐃𝐜𝐩𝐭𝐢𝐨𝐧Ƅᴨןᑯ໐ΤᏧ௦Іᴑ܁𝐬𝐰𝐲𝐛𝐦𝐯𝐑𝐙𝐣𝐇𝐂𝐘𝟎ԜТᗞ౦〔Ꭻ𝐳𝐔𝐱𝟔𝟓𝐅🐋ﬃ💘💓ё𝘥𝘯𝘶💐🌋🌄🌅𝙬𝙖𝙨𝙤𝙣𝙡𝙮𝙘𝙠𝙚𝙙𝙜𝙧𝙥𝙩𝙪𝙗𝙞𝙝𝙛👺🐷ℋ𝐀𝐥𝐪🚶𝙢Ἱ🤘ͦ💸ج패티Ｗ𝙇ᵻ👂👃ɜ🎫\\uf0a7БУі🚢🚂ગુજરાતીῆ🏃𝓬𝓻𝓴𝓮𝓽𝓼☘﴾̯﴿₽\\ue807𝑻𝒆𝒍𝒕𝒉𝒓𝒖𝒂𝒏𝒅𝒔𝒎𝒗𝒊👽😙\\u200cЛ‒🎾👹⎌🏒⛸公寓养宠物吗🏄🐀🚑🤷操美𝒑𝒚𝒐𝑴🤙🐒欢迎来到阿拉斯ספ𝙫🐈𝒌𝙊𝙭𝙆𝙋𝙍𝘼𝙅ﷻ🦄巨收赢得白鬼愤怒要买额ẽ🚗🐳𝟏𝐟𝟖𝟑𝟕𝒄𝟗𝐠𝙄𝙃👇锟斤拷𝗢𝟳𝟱𝟬⦁マルハニチロ株式社⛷한국어ㄸㅓ니͜ʖ𝘿𝙔₵𝒩ℯ𝓁𝒶𝓉𝓇𝓊𝓃𝓈𝓅ℴ𝒻𝒽𝓀𝓌𝒸𝓎𝙏ζ𝙟𝘃𝗺𝟮𝟭𝟯𝟲👋🦊多伦🐽🎻🎹⛓🏹🍷🦆为和中友谊祝贺与其想象对法如直接问用自己猜本传教士没积唯认识基督徒曾经让相信耶稣复活死怪他但当们聊些政治题时候战胜因圣把全堂结婚孩恐惧且栗谓这样还♾🎸🤕🤒⛑🎁批判检讨🏝🦁🙋😶쥐스탱트뤼도석유가격인상이경제황을렵게만들지않록잘관리해야합다캐나에서대마초와화약금의품런성분갈때는반드시허된사용🔫👁凸ὰ💲🗯𝙈Ἄ𝒇𝒈𝒘𝒃𝑬𝑶𝕾𝖙𝖗𝖆𝖎𝖌𝖍𝖕𝖊𝖔𝖑𝖉𝖓𝖐𝖜𝖞𝖚𝖇𝕿𝖘𝖄𝖛𝖒𝖋𝖂𝕴𝖟𝖈𝕸👑🚿💡知彼百\\uf005𝙀𝒛𝑲𝑳𝑾𝒋𝟒😦𝙒𝘾𝘽🏐𝘩𝘨ὼṑ𝑱𝑹𝑫𝑵𝑪🇰🇵👾ᓇᒧᔭᐃᐧᐦᑳᐨᓃᓂᑲᐸᑭᑎᓀᐣ🐄🎈🔨🐎🤞🐸💟🎰🌝🛳点击查版🍭𝑥𝑦𝑧ＮＧ👣\\uf020っ🏉ф💭🎥Ξ🐴👨🤳🦍\\x0b🍩𝑯𝒒😗𝟐🏂👳🍗🕉🐲چی𝑮𝗕𝗴🍒ꜥⲣⲏ🐑⏰鉄リ事件ї💊「」\\uf203\\uf09a\\uf222\\ue608\\uf202\\uf099\\uf469\\ue607\\uf410\\ue600燻製シ虚偽屁理屈Г𝑩𝑰𝒀𝑺🌤𝗳𝗜𝗙𝗦𝗧🍊ὺἈἡχῖΛ⤏🇳𝒙ψՁմեռայինրւդձ冬至ὀ𝒁🔹🤚🍎𝑷🐂💅𝘬𝘱𝘸𝘷𝘐𝘭𝘓𝘖𝘹𝘲𝘫کΒώ💢ΜΟΝΑΕ🇱♲𝝈↴💒⊘Ȼ🚴🖕🖤🥘📍👈➕🚫🎨🌑🐻𝐎𝐍𝐊𝑭🤖🎎😼🕷ｇｒｎｔｉｄｕｆｂｋ𝟰🇴🇭🇻🇲𝗞𝗭𝗘𝗤👼📉🍟🍦🌈🔭《🐊🐍\\uf10aლڡ🐦\\U0001f92f\\U0001f92a🐡💳ἱ🙇𝗸𝗟𝗠𝗷🥜さようなら🔼'\n",
        "    symbols_to_isolate = '.,?!-;*\"…:—()%#$&_/@＼・ω+=”“[]^–>\\\\°<~•≠™ˈʊɒ∞§{}·τα❤☺ɡ|¢→̶`❥━┣┫┗Ｏ►★©―ɪ✔®\\x96\\x92●£♥➤´¹☕≈÷♡◐║▬′ɔː€۩۞†μ✒➥═☆ˌ◄½ʻπδηλσερνʃ✬ＳＵＰＥＲＩＴ☻±♍µº¾✓◾؟．⬅℅»Вав❣⋅¿¬♫ＣＭβ█▓▒░⇒⭐›¡₂₃❧▰▔◞▀▂▃▄▅▆▇↙γ̄″☹➡«φ⅓„✋：¥̲̅́∙‛◇✏▷❓❗¶˚˙）сиʿ✨。ɑ\\x80◕！％¯−ﬂﬁ₁²ʌ¼⁴⁄₄⌠♭✘╪▶☭✭♪☔☠♂☃☎✈✌✰❆☙○‣⚓年∎ℒ▪▙☏⅛ｃａｓǀ℮¸ｗ‚∼‖ℳ❄←☼⋆ʒ⊂、⅔¨͡๏⚾⚽Φ×θ￦？（℃⏩☮⚠月✊❌⭕▸■⇌☐☑⚡☄ǫ╭∩╮，例＞ʕɐ̣Δ₀✞┈╱╲▏▕┃╰▊▋╯┳┊≥☒↑☝ɹ✅☛♩☞ＡＪＢ◔◡↓♀⬆̱ℏ\\x91⠀ˤ╚↺⇤∏✾◦♬³の｜／∵∴√Ω¤☜▲↳▫‿⬇✧ｏｖｍ－２０８＇‰≤∕ˆ⚜☁'\n",
        "    \n",
        "    self.isolate_dict = {ord(c):f' {c} ' for c in symbols_to_isolate}\n",
        "    self.remove_dict = {ord(c):f'' for c in symbols_to_delete}\n",
        "\n",
        "    self.tokenizerTree = TreebankWordTokenizer()\n",
        "    self.tokenizer = text.Tokenizer(num_words = 400000, filters='',lower=False)\n",
        "\n",
        "  def load_and_parse_data(self, path, cols_input):\n",
        "    df = pd.read_csv(path,delimiter=\"\\t\")\n",
        "    for col_in in cols_input:\n",
        "      df[col_in] = df.apply(lambda x:self.preprocess(x[col_in]), axis = 1)\n",
        "\n",
        "    return df\n",
        "\n",
        "  def handle_punctuation(self, x):\n",
        "    x = x.translate(self.remove_dict)\n",
        "    x = x.translate(self.isolate_dict)\n",
        "    return x\n",
        "\n",
        "  def handle_contractions(self, x):\n",
        "    x = self.tokenizerTree.tokenize(x)\n",
        "    return x\n",
        "\n",
        "  def fix_quote(self, x):\n",
        "    x = [x_[1:] if x_.startswith(\"'\") else x_ for x_ in x]\n",
        "    x = ' '.join(x)\n",
        "    return x\n",
        "\n",
        "  def preprocess(self, x):\n",
        "    x = self.handle_punctuation(x)\n",
        "    x = self.handle_contractions(x)\n",
        "    x = self.fix_quote(x)\n",
        "    return x\n",
        "\n",
        "  def fit_text_tokenizer(self, x_tr, x_test, cols):\n",
        "    corpus = []\n",
        "\n",
        "    for f in cols:\n",
        "      x_tr[f] = x_tr[f].astype(str)\n",
        "      x_test[f] = x_test[f].astype(str)\n",
        "      corpus+=x_tr[f].values.tolist()\n",
        "      corpus+=x_test[f].values.tolist()\n",
        "\n",
        "    self.tokenizer.fit_on_texts(corpus)\n",
        "\n",
        "  def build_vocab(self, sentences, verbose =  True):\n",
        "      \"\"\"\n",
        "      :param sentences: list of list of words\n",
        "      :return: dictionary of words and their count\n",
        "      \"\"\"\n",
        "      vocab = {}\n",
        "      for sentence in tqdm(sentences, disable = (not verbose)):\n",
        "          for word in sentence:\n",
        "              try:\n",
        "                  vocab[word] += 1\n",
        "              except KeyError:\n",
        "                  vocab[word] = 1\n",
        "      return vocab\n",
        "  \n",
        "  def get_coefs(self, word, *arr):\n",
        "    return word, np.asarray(arr, dtype='float32')\n",
        "\n",
        "  def load_embeddings(self, path):\n",
        "    with open(path) as f:\n",
        "      return dict(self.get_coefs(*line.strip().split(' ')) for line in tqdm(f))\n",
        "\n",
        "  def check_coverage(self, vocab,embeddings_index):\n",
        "    a = {}\n",
        "    oov = {}\n",
        "    k = 0\n",
        "    i = 0\n",
        "    for word in tqdm(vocab):\n",
        "        try:\n",
        "            a[word] = embeddings_index[word]\n",
        "            k += vocab[word]\n",
        "        except:\n",
        "\n",
        "            oov[word] = vocab[word]\n",
        "            i += vocab[word]\n",
        "            pass\n",
        "\n",
        "    print('Found embeddings for {:.2%} of vocab'.format(len(a) / len(vocab)))\n",
        "    print('Found embeddings for  {:.2%} of all text'.format(k / (k + i)))\n",
        "    sorted_x = sorted(oov.items(), key=operator.itemgetter(1))[::-1]\n",
        "\n",
        "    return sorted_x\n",
        "\n",
        "  def build_matrix_test(self, path):\n",
        "      word_index = self.tokenizer.word_index\n",
        "      max_features = len(word_index)\n",
        "      embedding_index = self.load_embeddings(path)\n",
        "      embedding_matrix = np.zeros((max_features + 1, 300))\n",
        "      unknown_words = []\n",
        "      \n",
        "      for word, i in word_index.items():\n",
        "          if i <= max_features:\n",
        "              try:\n",
        "                  embedding_matrix[i] = embedding_index[word]\n",
        "              except KeyError:\n",
        "                  try:\n",
        "                      embedding_matrix[i] = embedding_index[word.lower()]\n",
        "                  except KeyError:\n",
        "                      try:\n",
        "                          embedding_matrix[i] = embedding_index[word.title()]\n",
        "                      except KeyError:\n",
        "                          unknown_words.append(word)\n",
        "      return embedding_matrix, unknown_words\n",
        "\n",
        "  def padding_sequence(self, df, cols, maxlen_seq):\n",
        "    sentence1_seq = self.tokenizer.texts_to_sequences(df[cols[0]])\n",
        "    sentence2_seq = self.tokenizer.texts_to_sequences(df[cols[1]])\n",
        "\n",
        "    return (pad_sequences(sentence1_seq, maxlen=maxlen_seq), pad_sequences(sentence2_seq, maxlen=maxlen_seq))\n"
      ],
      "execution_count": 0,
      "outputs": []
    },
    {
      "cell_type": "markdown",
      "metadata": {
        "id": "Z3-ZplWMN554",
        "colab_type": "text"
      },
      "source": [
        "# Instantiating preprocessing Class & Loading the Train / Prod Dataset\n",
        "\n",
        "---\n",
        "\n"
      ]
    },
    {
      "cell_type": "code",
      "metadata": {
        "id": "jeUT0OxNN0JJ",
        "colab_type": "code",
        "colab": {}
      },
      "source": [
        "pre_processing = PreprocessingData()"
      ],
      "execution_count": 0,
      "outputs": []
    },
    {
      "cell_type": "code",
      "metadata": {
        "id": "kutUVHzfGfj6",
        "colab_type": "code",
        "colab": {}
      },
      "source": [
        "DF_COL =['sentence_1','sentence_2']\n",
        "DF_NEW_LABEL =['neutral','entailment','contradiction']\n",
        "DF_LABEL_COL = 'label'\n",
        "\n",
        "df = pre_processing.load_and_parse_data(\"/content/datasets/kaggle-dataset/dataset_train.csv\",\n",
        "                                        DF_COL)\n",
        "X_prod =  pre_processing.load_and_parse_data(\"/content/datasets/kaggle-dataset/dataset_test_no_labels.csv\",\n",
        "                                        DF_COL)\n"
      ],
      "execution_count": 0,
      "outputs": []
    },
    {
      "cell_type": "markdown",
      "metadata": {
        "id": "EVqXhFtDKXbW",
        "colab_type": "text"
      },
      "source": [
        "# Creating a Column for each output and splitting the data into training and test Values\n",
        "\n",
        "---\n",
        "\n"
      ]
    },
    {
      "cell_type": "code",
      "metadata": {
        "id": "w1vmDMQwKBi6",
        "colab_type": "code",
        "colab": {}
      },
      "source": [
        "from sklearn.model_selection import train_test_split\n",
        "\n",
        "for label in DF_NEW_LABEL:\n",
        "  df[label]=0\n",
        "  df[label] = df[DF_LABEL_COL].apply(lambda x: 1 if x == label else 0)\n",
        "\n",
        "X_train, X_test, Y_train, Y_test = train_test_split(df[DF_COL], df[DF_NEW_LABEL], train_size=0.91)\n"
      ],
      "execution_count": 0,
      "outputs": []
    },
    {
      "cell_type": "markdown",
      "metadata": {
        "id": "nXOnjqzwNPWj",
        "colab_type": "text"
      },
      "source": [
        "# Building embedding matrix (Glove & crawl)\n",
        "\n",
        "---\n",
        "\n"
      ]
    },
    {
      "cell_type": "code",
      "metadata": {
        "id": "T8dzvku8Ne0U",
        "colab_type": "code",
        "colab": {}
      },
      "source": [
        "pre_processing.fit_text_tokenizer(X_train, X_test, DF_COL)"
      ],
      "execution_count": 0,
      "outputs": []
    },
    {
      "cell_type": "code",
      "metadata": {
        "id": "McHBESHkNXsx",
        "colab_type": "code",
        "outputId": "07c7193b-df79-4e28-9b27-a4f7a74b5883",
        "colab": {
          "base_uri": "https://localhost:8080/",
          "height": 132,
          "referenced_widgets": [
            "2d55f1200a8d4285a6e28afb8d73715a",
            "1c16d2a3975440ab8589fcde674cac11",
            "abf3adc9e931464b80d1571f6e063a56",
            "123ab17df3b34c4380a906429a4af78d",
            "3408eb8aaa474fb7b8989848ea4dbd9c",
            "5a378e657b1d408391873d8a2f409cdc",
            "c9f1a15a53d841ffb96217adf39142d4",
            "003d0f38851d4728b605c94ed34efaf2",
            "597666fc151a45a2874b2db255919761",
            "048003dd905f43598d1b61e1f7e17d8a",
            "1e55acbe7ae549158721f4c97756b228",
            "4bc5d4e5849146f59f0c0034c8c744a7",
            "d73c7770c03b40eba566c41a1a6c843f",
            "61fe0ae1f7f3430399a8c9d9a1c82a9e",
            "f25bcf5fff8d452088ea4eba30eedea1",
            "eb03fbb650a24ed3b0aca6f850084732"
          ]
        }
      },
      "source": [
        "embedding_matrix_glove, unknown_words_glove = pre_processing.build_matrix_test(\"/content/datasets/kaggle-dataset/glove.840B.300d.txt\")\n",
        "embedding_matrix_crawl, unknown_words_glove = pre_processing.build_matrix_test(\"/content/datasets/kaggle-dataset/crawl-300d-2M.vec\")\n",
        "\n",
        "\n",
        "#Concatenating each embedding matrix\n",
        "embedding_matrix = np.concatenate([embedding_matrix_glove, embedding_matrix_crawl], axis=-1)\n",
        "del embedding_matrix_glove\n",
        "del embedding_matrix_crawl\n",
        "gc.collect()"
      ],
      "execution_count": 0,
      "outputs": [
        {
          "output_type": "display_data",
          "data": {
            "application/vnd.jupyter.widget-view+json": {
              "model_id": "2d55f1200a8d4285a6e28afb8d73715a",
              "version_minor": 0,
              "version_major": 2
            },
            "text/plain": [
              "HBox(children=(IntProgress(value=1, bar_style='info', max=1), HTML(value='')))"
            ]
          },
          "metadata": {
            "tags": []
          }
        },
        {
          "output_type": "stream",
          "text": [
            "\n"
          ],
          "name": "stdout"
        },
        {
          "output_type": "display_data",
          "data": {
            "application/vnd.jupyter.widget-view+json": {
              "model_id": "597666fc151a45a2874b2db255919761",
              "version_minor": 0,
              "version_major": 2
            },
            "text/plain": [
              "HBox(children=(IntProgress(value=1, bar_style='info', max=1), HTML(value='')))"
            ]
          },
          "metadata": {
            "tags": []
          }
        },
        {
          "output_type": "stream",
          "text": [
            "\n"
          ],
          "name": "stdout"
        },
        {
          "output_type": "execute_result",
          "data": {
            "text/plain": [
              "4"
            ]
          },
          "metadata": {
            "tags": []
          },
          "execution_count": 12
        }
      ]
    },
    {
      "cell_type": "code",
      "metadata": {
        "id": "ZK8Xbu5yv-qH",
        "colab_type": "code",
        "colab": {}
      },
      "source": [
        "\"\"\"\n",
        "uncomment to test coverage if you want\n",
        "  first result will be without pre processing\n",
        "  second result will be with pre processing\n",
        "\"\"\"\n",
        "\n",
        "\"\"\"\n",
        "def test_cov():\n",
        "  df_without_pre = pd.read_csv(\"/content/datasets/kaggle-dataset/dataset_train.csv\",delimiter=\"\\t\")\n",
        "  vocab =pre_processing.build_vocab(list(df_without_pre['sentence_1'].apply(lambda x:x.split())))\n",
        "  oov = pre_processing.check_coverage(vocab,pre_processing.load_embeddings(\"/content/datasets/kaggle-dataset/glove.840B.300d.txt\"))\n",
        "  \n",
        "  vocab =pre_processing.build_vocab(list(df['sentence_1'].apply(lambda x:x.split())))\n",
        "  oov = pre_processing.check_coverage(vocab,pre_processing.load_embeddings(\"/content/datasets/kaggle-dataset/glove.840B.300d.txt\"))\n",
        "\n",
        "test_cov()\n",
        "\"\"\""
      ],
      "execution_count": 0,
      "outputs": []
    },
    {
      "cell_type": "markdown",
      "metadata": {
        "id": "m78NRVzsUkRG",
        "colab_type": "text"
      },
      "source": [
        "# Creating Sequence & padding it\n",
        "\n",
        "---\n",
        "\n"
      ]
    },
    {
      "cell_type": "code",
      "metadata": {
        "id": "Zt1-q4_HUoeR",
        "colab_type": "code",
        "colab": {}
      },
      "source": [
        "MAX_SEQUENCE_LENGTH = 32"
      ],
      "execution_count": 0,
      "outputs": []
    },
    {
      "cell_type": "code",
      "metadata": {
        "id": "A4G5HXVhUq6y",
        "colab_type": "code",
        "colab": {}
      },
      "source": [
        "X_train_sentence1_padded,X_train_sentence2_padded = pre_processing.padding_sequence(X_train, DF_COL,MAX_SEQUENCE_LENGTH)\n",
        "X_test_sentence1_seq_padded,X_test_sentence2_seq_padded = pre_processing.padding_sequence(X_test, DF_COL,MAX_SEQUENCE_LENGTH)"
      ],
      "execution_count": 0,
      "outputs": []
    },
    {
      "cell_type": "markdown",
      "metadata": {
        "id": "EL9SMpOlVX8_",
        "colab_type": "text"
      },
      "source": [
        "# Creating validation dataset\n",
        "\n",
        "---\n",
        "\n"
      ]
    },
    {
      "cell_type": "code",
      "metadata": {
        "id": "hh6LBulMVcFz",
        "colab_type": "code",
        "colab": {}
      },
      "source": [
        "X_train_s1,X_val_s1,X_train_s2,X_val_s2,y_train,y_val = train_test_split(X_train_sentence1_padded,\n",
        "                                                                         X_train_sentence2_padded,\n",
        "                                                                         Y_train[DF_NEW_LABEL],\n",
        "                                                                         train_size=0.91,\n",
        "                                                                         random_state=1024)"
      ],
      "execution_count": 0,
      "outputs": []
    },
    {
      "cell_type": "markdown",
      "metadata": {
        "id": "XKYO_GfZVw_A",
        "colab_type": "text"
      },
      "source": [
        "# Creating Class that will hold the model\n",
        "\n",
        "---\n",
        "\n"
      ]
    },
    {
      "cell_type": "code",
      "metadata": {
        "id": "MkSsXbi-VsdZ",
        "colab_type": "code",
        "colab": {}
      },
      "source": [
        "class SiameseModel():\n",
        "  def __init__(self):\n",
        "    self.model = None\n",
        "    self.model_trained = None\n",
        "\n",
        "  def create_model_siamese(self, adam_optimizer,nb_words,MAX_SEQUENCE_LENGTH,EMBEDDING_DIM,act,embedding_matrix):\n",
        "    input_s1 = Input(shape=(MAX_SEQUENCE_LENGTH,), dtype='int32')\n",
        "    input_s2 = Input(shape=(MAX_SEQUENCE_LENGTH,), dtype='int32')\n",
        "\n",
        "    if embedding_matrix is not None:\n",
        "        print(\"ici\")\n",
        "        embedding_layer = Embedding(nb_words,\n",
        "                EMBEDDING_DIM,\n",
        "                input_length=MAX_SEQUENCE_LENGTH,\n",
        "                weights=[embedding_matrix],\n",
        "                trainable=False)\n",
        "    else:\n",
        "        embedding_layer = Embedding(nb_words,\n",
        "                EMBEDDING_DIM,\n",
        "                input_length=MAX_SEQUENCE_LENGTH,\n",
        "                trainable=True)\n",
        "\n",
        "    encoded_left = embedding_layer(input_s1)\n",
        "    encoded_right = embedding_layer(input_s2)\n",
        "\n",
        "    \n",
        "    shared_lstm = Bidirectional(LSTM(LSTM_UNIT,dropout=0.2, recurrent_dropout=0.2))\n",
        "\n",
        "    x1 = shared_lstm(encoded_left)\n",
        "    x2 = shared_lstm(encoded_right)\n",
        "    #x1 = Dropout(0.3)(x1)\n",
        "    #x2 = Dropout(0.3)(x2)\n",
        "    \n",
        "    diff = subtract([x1,x2])\n",
        "    summation = add([x1,x2])\n",
        "    \n",
        "    x = concatenate([x1,x2,diff,summation],1)\n",
        "    #x = Dropout(0.3)(x)\n",
        "    x = Dense(DENSE_UNIT,activation=act)(x)\n",
        "    x = Dropout(0.3)(x)\n",
        "    #preds = Dense(3,activation='sigmoid')(x)\n",
        "    preds = Dense(3,activation='sigmoid',activity_regularizer=regularizers.l2(0.0001))(x)\n",
        "\n",
        "    self.model = Model(inputs=[input_s1,input_s2],outputs=preds)\n",
        "    self.model.compile(loss='binary_crossentropy',\n",
        "            optimizer=adam_optimizer,\n",
        "            metrics=['accuracy'])\n",
        "    \n",
        "  def print_me_summary_model(self):\n",
        "    print(self.model.summary())\n",
        "\n",
        "  def print_me_graph_model(self):\n",
        "    plot_model(self.model, to_file='model_plot_add_minus.png', show_shapes=True, show_layer_names=True)\n",
        "\n",
        "  def fit_my_model(self, x_train, y_train, epochs, x_val,y_val,batch_size,shuffle=True,verbose=1):\n",
        "    early_stopping = EarlyStopping(monitor='val_loss', patience=2)\n",
        "    self.model_trained = self.model.fit(x_train,y_train,epochs=epochs,validation_data=(x_val, y_val),\n",
        "                                        batch_size=batch_size,shuffle=True,verbose=1,\n",
        "                                        callbacks=[early_stopping])\n",
        "  def plot_performance_model(self):\n",
        "    # Plot accuracy\n",
        "    plt.plot(self.model_trained.history['acc'])\n",
        "    plt.plot(self.model_trained.history['val_acc'])\n",
        "    plt.title('Model Accuracy')\n",
        "    plt.ylabel('Accuracy')\n",
        "    plt.xlabel('Epoch')\n",
        "    plt.legend(['Train', 'Validation'], loc='upper left')\n",
        "    plt.show()\n",
        "\n",
        "    # Plot loss\n",
        "    plt.plot(self.model_trained.history['loss'])\n",
        "    plt.plot(self.model_trained.history['val_loss'])\n",
        "    plt.title('Model Loss')\n",
        "    plt.ylabel('Loss')\n",
        "    plt.xlabel('Epoch')\n",
        "    plt.legend(['Train', 'Validation'], loc='upper right')\n",
        "    plt.show() "
      ],
      "execution_count": 0,
      "outputs": []
    },
    {
      "cell_type": "code",
      "metadata": {
        "id": "5hvO1qQ6XtA0",
        "colab_type": "code",
        "outputId": "95b3f422-e586-490e-8872-36128136b02a",
        "colab": {
          "base_uri": "https://localhost:8080/",
          "height": 1000
        }
      },
      "source": [
        "## CONSTANT FOR LSTM\n",
        "EMBEDDING_DIM = 600\n",
        "LSTM_UNIT = 64\n",
        "DENSE_UNIT = 4 * LSTM_UNIT\n",
        "DROPOUT_RATE = 0.2\n",
        "adam_optimizer = optimizers.Adam(lr=0.001, beta_1=0.9, beta_2=0.999)\n",
        "\n",
        "siamese = SiameseModel()\n",
        "siamese.create_model_siamese(adam_optimizer = adam_optimizer,\n",
        "                                     nb_words=len(pre_processing.tokenizer.word_index)+1,\n",
        "                                     MAX_SEQUENCE_LENGTH=MAX_SEQUENCE_LENGTH,\n",
        "                                     EMBEDDING_DIM=EMBEDDING_DIM,\n",
        "                                     act='relu',\n",
        "                                     embedding_matrix=embedding_matrix)\n",
        "\n",
        "\n",
        "siamese.print_me_summary_model()\n",
        "siamese.print_me_graph_model()\n",
        "\n",
        "siamese.fit_my_model([X_train_s1,X_train_s2],\n",
        "                     y_train,epochs=2,\n",
        "                     x_val = [X_val_s1,X_val_s2],\n",
        "                     y_val = y_val,\n",
        "                     batch_size=128,\n",
        "                     shuffle=True,\n",
        "                     verbose=1)"
      ],
      "execution_count": 0,
      "outputs": [
        {
          "output_type": "stream",
          "text": [
            "WARNING:tensorflow:From /usr/local/lib/python3.6/dist-packages/keras/backend/tensorflow_backend.py:66: The name tf.get_default_graph is deprecated. Please use tf.compat.v1.get_default_graph instead.\n",
            "\n",
            "WARNING:tensorflow:From /usr/local/lib/python3.6/dist-packages/keras/backend/tensorflow_backend.py:541: The name tf.placeholder is deprecated. Please use tf.compat.v1.placeholder instead.\n",
            "\n",
            "ici\n",
            "WARNING:tensorflow:From /usr/local/lib/python3.6/dist-packages/keras/backend/tensorflow_backend.py:4432: The name tf.random_uniform is deprecated. Please use tf.random.uniform instead.\n",
            "\n",
            "WARNING:tensorflow:From /usr/local/lib/python3.6/dist-packages/keras/backend/tensorflow_backend.py:190: The name tf.get_default_session is deprecated. Please use tf.compat.v1.get_default_session instead.\n",
            "\n",
            "WARNING:tensorflow:From /usr/local/lib/python3.6/dist-packages/keras/backend/tensorflow_backend.py:197: The name tf.ConfigProto is deprecated. Please use tf.compat.v1.ConfigProto instead.\n",
            "\n",
            "WARNING:tensorflow:From /usr/local/lib/python3.6/dist-packages/keras/backend/tensorflow_backend.py:203: The name tf.Session is deprecated. Please use tf.compat.v1.Session instead.\n",
            "\n",
            "WARNING:tensorflow:From /usr/local/lib/python3.6/dist-packages/keras/backend/tensorflow_backend.py:207: The name tf.global_variables is deprecated. Please use tf.compat.v1.global_variables instead.\n",
            "\n",
            "WARNING:tensorflow:From /usr/local/lib/python3.6/dist-packages/keras/backend/tensorflow_backend.py:216: The name tf.is_variable_initialized is deprecated. Please use tf.compat.v1.is_variable_initialized instead.\n",
            "\n",
            "WARNING:tensorflow:From /usr/local/lib/python3.6/dist-packages/keras/backend/tensorflow_backend.py:223: The name tf.variables_initializer is deprecated. Please use tf.compat.v1.variables_initializer instead.\n",
            "\n",
            "WARNING:tensorflow:From /usr/local/lib/python3.6/dist-packages/keras/backend/tensorflow_backend.py:148: The name tf.placeholder_with_default is deprecated. Please use tf.compat.v1.placeholder_with_default instead.\n",
            "\n",
            "WARNING:tensorflow:From /usr/local/lib/python3.6/dist-packages/keras/backend/tensorflow_backend.py:3733: calling dropout (from tensorflow.python.ops.nn_ops) with keep_prob is deprecated and will be removed in a future version.\n",
            "Instructions for updating:\n",
            "Please use `rate` instead of `keep_prob`. Rate should be set to `rate = 1 - keep_prob`.\n",
            "WARNING:tensorflow:From /usr/local/lib/python3.6/dist-packages/keras/optimizers.py:793: The name tf.train.Optimizer is deprecated. Please use tf.compat.v1.train.Optimizer instead.\n",
            "\n",
            "WARNING:tensorflow:From /usr/local/lib/python3.6/dist-packages/keras/backend/tensorflow_backend.py:3657: The name tf.log is deprecated. Please use tf.math.log instead.\n",
            "\n",
            "WARNING:tensorflow:From /usr/local/lib/python3.6/dist-packages/tensorflow_core/python/ops/nn_impl.py:183: where (from tensorflow.python.ops.array_ops) is deprecated and will be removed in a future version.\n",
            "Instructions for updating:\n",
            "Use tf.where in 2.0, which has the same broadcast rule as np.where\n",
            "Model: \"model_1\"\n",
            "__________________________________________________________________________________________________\n",
            "Layer (type)                    Output Shape         Param #     Connected to                     \n",
            "==================================================================================================\n",
            "input_1 (InputLayer)            (None, 32)           0                                            \n",
            "__________________________________________________________________________________________________\n",
            "input_2 (InputLayer)            (None, 32)           0                                            \n",
            "__________________________________________________________________________________________________\n",
            "embedding_1 (Embedding)         (None, 32, 600)      52246800    input_1[0][0]                    \n",
            "                                                                 input_2[0][0]                    \n",
            "__________________________________________________________________________________________________\n",
            "bidirectional_1 (Bidirectional) (None, 128)          340480      embedding_1[0][0]                \n",
            "                                                                 embedding_1[1][0]                \n",
            "__________________________________________________________________________________________________\n",
            "subtract_1 (Subtract)           (None, 128)          0           bidirectional_1[0][0]            \n",
            "                                                                 bidirectional_1[1][0]            \n",
            "__________________________________________________________________________________________________\n",
            "add_1 (Add)                     (None, 128)          0           bidirectional_1[0][0]            \n",
            "                                                                 bidirectional_1[1][0]            \n",
            "__________________________________________________________________________________________________\n",
            "concatenate_1 (Concatenate)     (None, 512)          0           bidirectional_1[0][0]            \n",
            "                                                                 bidirectional_1[1][0]            \n",
            "                                                                 subtract_1[0][0]                 \n",
            "                                                                 add_1[0][0]                      \n",
            "__________________________________________________________________________________________________\n",
            "dense_1 (Dense)                 (None, 256)          131328      concatenate_1[0][0]              \n",
            "__________________________________________________________________________________________________\n",
            "dropout_1 (Dropout)             (None, 256)          0           dense_1[0][0]                    \n",
            "__________________________________________________________________________________________________\n",
            "dense_2 (Dense)                 (None, 3)            771         dropout_1[0][0]                  \n",
            "==================================================================================================\n",
            "Total params: 52,719,379\n",
            "Trainable params: 472,579\n",
            "Non-trainable params: 52,246,800\n",
            "__________________________________________________________________________________________________\n",
            "None\n",
            "WARNING:tensorflow:From /usr/local/lib/python3.6/dist-packages/keras/backend/tensorflow_backend.py:1033: The name tf.assign_add is deprecated. Please use tf.compat.v1.assign_add instead.\n",
            "\n",
            "WARNING:tensorflow:From /usr/local/lib/python3.6/dist-packages/keras/backend/tensorflow_backend.py:1020: The name tf.assign is deprecated. Please use tf.compat.v1.assign instead.\n",
            "\n",
            "Train on 325163 samples, validate on 32159 samples\n",
            "Epoch 1/2\n",
            "325163/325163 [==============================] - 1490s 5ms/step - loss: 0.5493 - acc: 0.7244 - val_loss: 0.5079 - val_acc: 0.7553\n",
            "Epoch 2/2\n",
            "325163/325163 [==============================] - 1478s 5ms/step - loss: 0.5058 - acc: 0.7559 - val_loss: 0.4876 - val_acc: 0.7698\n"
          ],
          "name": "stdout"
        }
      ]
    },
    {
      "cell_type": "markdown",
      "metadata": {
        "id": "M5uWZ6XxpQVg",
        "colab_type": "text"
      },
      "source": [
        "# **Evaluating model**"
      ]
    },
    {
      "cell_type": "code",
      "metadata": {
        "id": "g_nsaqnIdFJf",
        "colab_type": "code",
        "outputId": "30f97284-0a04-4140-9055-b0b3f67b971c",
        "colab": {
          "base_uri": "https://localhost:8080/",
          "height": 573
        }
      },
      "source": [
        "siamese.plot_performance_model()"
      ],
      "execution_count": 0,
      "outputs": [
        {
          "output_type": "display_data",
          "data": {
            "image/png": "[encoded data removed]",
            "text/plain": [
              "<Figure size 432x288 with 1 Axes>"
            ]
          },
          "metadata": {
            "tags": []
          }
        },
        {
          "output_type": "display_data",
          "data": {
            "image/png": "[encoded data removed]",
            "text/plain": [
              "<Figure size 432x288 with 1 Axes>"
            ]
          },
          "metadata": {
            "tags": []
          }
        }
      ]
    },
    {
      "cell_type": "code",
      "metadata": {
        "id": "0rLMM-Gje0q1",
        "colab_type": "code",
        "outputId": "803462fa-981e-410f-b1ff-9d928c363dd0",
        "colab": {
          "base_uri": "https://localhost:8080/",
          "height": 68
        }
      },
      "source": [
        "score = siamese.model.evaluate([X_test_sentence1_seq_padded, X_test_sentence2_seq_padded],Y_test)\n",
        "\n",
        "print(\"Test loss:\", score[0])\n",
        "print(\"Test Accuracy:\", score[1])"
      ],
      "execution_count": 0,
      "outputs": [
        {
          "output_type": "stream",
          "text": [
            "35340/35340 [==============================] - 58s 2ms/step\n",
            "Test loss: 0.4854567623705127\n",
            "Test Accuracy: 0.7663648562979145\n"
          ],
          "name": "stdout"
        }
      ]
    },
    {
      "cell_type": "markdown",
      "metadata": {
        "id": "oeZMsSGqgMx8",
        "colab_type": "text"
      },
      "source": [
        "# Some result to compare executions\n",
        "\n",
        "---\n",
        "\n"
      ]
    },
    {
      "cell_type": "markdown",
      "metadata": {
        "id": "T19s6Irbf5Sw",
        "colab_type": "text"
      },
      "source": [
        "**Concat with diff and add**\n",
        "> loss: 0.5944 - acc: 0.6969 - val_loss: 0.5663 - val_acc: 0.7166\n",
        "\n",
        "**only concat**\n",
        "> loss: 0.5948 - acc: 0.6964 - val_loss: 0.5661 - val_acc: 0.7173\n",
        "\n",
        "**only subtract**\n",
        "> loss: 0.6034 - acc: 0.6904 - val_loss: 0.5748 - val_acc: 0.7099\n",
        "\n",
        "**concat with diff**\n",
        "> loss: 0.5936 - acc: 0.6973 - val_loss: 0.5647 - val_acc: 0.7184"
      ]
    },
    {
      "cell_type": "markdown",
      "metadata": {
        "id": "MFtQyuA0gAUC",
        "colab_type": "text"
      },
      "source": [
        "#### last dense activation\n",
        "**case Linear**\n",
        "> loss: 0.5946 - acc: 0.6967 - val_loss: 0.5684 - val_acc: 0.7148\n",
        "\n",
        "**case relu**\n",
        "> loss: 0.5668 - acc: 0.7148 - val_loss: 0.5301 - val_acc: 0.7400\n",
        "\n",
        "**case tanh**\n",
        "> loss: 0.5854 - acc: 0.7022 - val_loss: 0.5487 - val_acc: 0.7270\n",
        "\n"
      ]
    },
    {
      "cell_type": "markdown",
      "metadata": {
        "id": "vZ8foc77gBbO",
        "colab_type": "text"
      },
      "source": [
        "  ### **LSTM_unit = 128 SEQ = 64**\n",
        "* Epoch 2/4\n",
        " * loss: 0.5121 - acc: 0.7465 - val_loss: 0.4925 - val_acc: 0.7602\n",
        "* Epoch 3/4\n",
        " * loss: 0.4887 - acc: 0.7632 - val_loss: 0.4758 - val_acc: 0.7707\n",
        "* Epoch 4/4\n",
        " * loss: 0.4724 - acc: 0.7743 - val_loss: 0.4673 - val_acc: 0.7770"
      ]
    },
    {
      "cell_type": "markdown",
      "metadata": {
        "id": "3kTh0Z0JgD3J",
        "colab_type": "text"
      },
      "source": [
        "### **LSTM UNIT = 128 and SEQ = 64 and DROPOUT before concat**\n",
        "* Epoch 6/8\n",
        " * loss: 0.4603 - acc: 0.7813 - val_loss: 0.4637 - val_acc: 0.7798\n",
        "* Epoch 7/8\n",
        " * loss: 0.4529 - acc: 0.7861 - val_loss: 0.4591 - val_acc: 0.7832\n",
        "* Epoch 8/8\n",
        " * loss: 0.4448 - acc: 0.7909 - val_loss: 0.4602 - val_acc: 0.7824"
      ]
    },
    {
      "cell_type": "markdown",
      "metadata": {
        "id": "BmBhuJ5SPKOp",
        "colab_type": "text"
      },
      "source": [
        "# **Generating output CSV**"
      ]
    },
    {
      "cell_type": "code",
      "metadata": {
        "id": "vmn2pbM-PQr8",
        "colab_type": "code",
        "colab": {}
      },
      "source": [
        "X_prod_sentence1_padded,X_prod_sentence2_padded = pre_processing.padding_sequence(X_prod,DF_COL,MAX_SEQUENCE_LENGTH)"
      ],
      "execution_count": 0,
      "outputs": []
    },
    {
      "cell_type": "code",
      "metadata": {
        "id": "uHxaOJmnPTBj",
        "colab_type": "code",
        "colab": {}
      },
      "source": [
        "result = siamese.model.predict([X_prod_sentence1_padded, X_prod_sentence2_padded])"
      ],
      "execution_count": 0,
      "outputs": []
    },
    {
      "cell_type": "code",
      "metadata": {
        "id": "KLiPQ-t0dmEc",
        "colab_type": "code",
        "colab": {}
      },
      "source": [
        "class GenerateOutput():\n",
        "  def generate_csv(self,result, path):\n",
        "    y_classes = [np.argmax(y, axis=None, out=None) for y in result]\n",
        "    indexes = [i for i in range(len(y_classes))]\n",
        "    output = pd.DataFrame({'index': indexes, 'label': y_classes})\n",
        "    for i,col in enumerate(DF_NEW_LABEL):\n",
        "      output[DF_LABEL_COL] = output[DF_LABEL_COL].apply(lambda x: col if x == i else x)\n",
        "    output.to_csv(path, index=False)"
      ],
      "execution_count": 0,
      "outputs": []
    },
    {
      "cell_type": "code",
      "metadata": {
        "id": "xUf-eKxiPXWN",
        "colab_type": "code",
        "colab": {}
      },
      "source": [
        "generator = GenerateOutput()\n",
        "generator.generate_csv(result,\"/content/resultat_predict.csv\")"
      ],
      "execution_count": 0,
      "outputs": []
    },
    {
      "cell_type": "markdown",
      "metadata": {
        "id": "fx5FG56hfla-",
        "colab_type": "text"
      },
      "source": [
        "# Transfer Learning using BERT pre trained model with BI-LSTM\n",
        "\n",
        "---\n",
        "\n"
      ]
    },
    {
      "cell_type": "code",
      "metadata": {
        "id": "TQsG3wgWfv0E",
        "colab_type": "code",
        "outputId": "4f99f53b-61d4-4f22-9804-cacdea207a12",
        "colab": {
          "base_uri": "https://localhost:8080/",
          "height": 921
        }
      },
      "source": [
        "!pip install keras-bert\n",
        "\n",
        "import tensorflow as tf\n",
        "import keras as keras\n",
        "import keras.backend as K\n",
        "from keras.models import load_model\n",
        "\n",
        "from keras_bert import load_trained_model_from_checkpoint, load_vocabulary\n",
        "from keras_bert import Tokenizer\n",
        "from keras_bert import AdamWarmup, calc_train_steps\n",
        "\n",
        "import pandas as pd\n",
        "import numpy as np\n",
        "from tqdm import tqdm\n",
        "import gc"
      ],
      "execution_count": 0,
      "outputs": [
        {
          "output_type": "stream",
          "text": [
            "Collecting keras-bert\n",
            "  Downloading https://files.pythonhosted.org/packages/df/fe/bf46de1ef9d1395cd735d8df5402f5d837ef82cfd348a252ad8f32feeaef/keras-bert-0.80.0.tar.gz\n",
            "Requirement already satisfied: numpy in /usr/local/lib/python3.6/dist-packages (from keras-bert) (1.17.5)\n",
            "Requirement already satisfied: Keras in /usr/local/lib/python3.6/dist-packages (from keras-bert) (2.2.5)\n",
            "Collecting keras-transformer>=0.30.0\n",
            "  Downloading https://files.pythonhosted.org/packages/0a/57/496b1eab888171b0801a0a44d3245a7874b8d1cc04c1fbfdbb5e3327fc7a/keras-transformer-0.31.0.tar.gz\n",
            "Requirement already satisfied: scipy>=0.14 in /usr/local/lib/python3.6/dist-packages (from Keras->keras-bert) (1.4.1)\n",
            "Requirement already satisfied: keras-applications>=1.0.8 in /usr/local/lib/python3.6/dist-packages (from Keras->keras-bert) (1.0.8)\n",
            "Requirement already satisfied: six>=1.9.0 in /usr/local/lib/python3.6/dist-packages (from Keras->keras-bert) (1.12.0)\n",
            "Requirement already satisfied: keras-preprocessing>=1.1.0 in /usr/local/lib/python3.6/dist-packages (from Keras->keras-bert) (1.1.0)\n",
            "Requirement already satisfied: pyyaml in /usr/local/lib/python3.6/dist-packages (from Keras->keras-bert) (3.13)\n",
            "Requirement already satisfied: h5py in /usr/local/lib/python3.6/dist-packages (from Keras->keras-bert) (2.8.0)\n",
            "Collecting keras-pos-embd>=0.10.0\n",
            "  Downloading https://files.pythonhosted.org/packages/09/70/b63ed8fc660da2bb6ae29b9895401c628da5740c048c190b5d7107cadd02/keras-pos-embd-0.11.0.tar.gz\n",
            "Collecting keras-multi-head>=0.22.0\n",
            "  Downloading https://files.pythonhosted.org/packages/40/3e/d0a64bb2ac5217928effe4507c26bbd19b86145d16a1948bc2d4f4c6338a/keras-multi-head-0.22.0.tar.gz\n",
            "Collecting keras-layer-normalization>=0.12.0\n",
            "  Downloading https://files.pythonhosted.org/packages/a4/0e/d1078df0494bac9ce1a67954e5380b6e7569668f0f3b50a9531c62c1fc4a/keras-layer-normalization-0.14.0.tar.gz\n",
            "Collecting keras-position-wise-feed-forward>=0.5.0\n",
            "  Downloading https://files.pythonhosted.org/packages/e3/59/f0faa1037c033059e7e9e7758e6c23b4d1c0772cd48de14c4b6fd4033ad5/keras-position-wise-feed-forward-0.6.0.tar.gz\n",
            "Collecting keras-embed-sim>=0.7.0\n",
            "  Downloading https://files.pythonhosted.org/packages/bc/20/735fd53f6896e2af63af47e212601c1b8a7a80d00b6126c388c9d1233892/keras-embed-sim-0.7.0.tar.gz\n",
            "Collecting keras-self-attention==0.41.0\n",
            "  Downloading https://files.pythonhosted.org/packages/1b/1c/01599219bef7266fa43b3316e4f55bcb487734d3bafdc60ffd564f3cfe29/keras-self-attention-0.41.0.tar.gz\n",
            "Building wheels for collected packages: keras-bert, keras-transformer, keras-pos-embd, keras-multi-head, keras-layer-normalization, keras-position-wise-feed-forward, keras-embed-sim, keras-self-attention\n",
            "  Building wheel for keras-bert (setup.py) ... \u001b[?25l\u001b[?25hdone\n",
            "  Created wheel for keras-bert: filename=keras_bert-0.80.0-cp36-none-any.whl size=37923 sha256=ecfc01b13f8cd6f8ad311cfae594ff9495752e90292cf92e2c4b2adeb47642dc\n",
            "  Stored in directory: /root/.cache/pip/wheels/63/dc/87/3260cb91f3aa32c0f85c5375429a30c8fd988bbb48f5ee21b0\n",
            "  Building wheel for keras-transformer (setup.py) ... \u001b[?25l\u001b[?25hdone\n",
            "  Created wheel for keras-transformer: filename=keras_transformer-0.31.0-cp36-none-any.whl size=13385 sha256=498f1566fc1bb9b572b60c3b948587117c6d5e3d0c9e7bab236e795aa82e4d42\n",
            "  Stored in directory: /root/.cache/pip/wheels/a3/c5/9a/5a5130240be614a7a6fa786765d7692ae97f82601e2161bb56\n",
            "  Building wheel for keras-pos-embd (setup.py) ... \u001b[?25l\u001b[?25hdone\n",
            "  Created wheel for keras-pos-embd: filename=keras_pos_embd-0.11.0-cp36-none-any.whl size=7553 sha256=c0a91b201c19bb3ccb5a6c3d2bf0dfbaaf6c1d178c04cefe38ee76d382ec5120\n",
            "  Stored in directory: /root/.cache/pip/wheels/5b/a1/a0/ce6b1d49ba1a9a76f592e70cf297b05c96bc9f418146761032\n",
            "  Building wheel for keras-multi-head (setup.py) ... \u001b[?25l\u001b[?25hdone\n",
            "  Created wheel for keras-multi-head: filename=keras_multi_head-0.22.0-cp36-none-any.whl size=15371 sha256=251726d2adabb1486fe8d25e72c59b55325dcc64db4736b816a9ef796c129329\n",
            "  Stored in directory: /root/.cache/pip/wheels/bb/df/3f/81b36f41b66e6a9cd69224c70a737de2bb6b2f7feb3272c25e\n",
            "  Building wheel for keras-layer-normalization (setup.py) ... \u001b[?25l\u001b[?25hdone\n",
            "  Created wheel for keras-layer-normalization: filename=keras_layer_normalization-0.14.0-cp36-none-any.whl size=5268 sha256=61ec8fc9e01abf1e39ccb054ee34ae11481e377d1362f065dcc7cfab242e4c6f\n",
            "  Stored in directory: /root/.cache/pip/wheels/54/80/22/a638a7d406fd155e507aa33d703e3fa2612b9eb7bb4f4fe667\n",
            "  Building wheel for keras-position-wise-feed-forward (setup.py) ... \u001b[?25l\u001b[?25hdone\n",
            "  Created wheel for keras-position-wise-feed-forward: filename=keras_position_wise_feed_forward-0.6.0-cp36-none-any.whl size=5624 sha256=72da1816cada5454094deca88e0fd3960d1d299c1dadebe2bb6fa062a5d24982\n",
            "  Stored in directory: /root/.cache/pip/wheels/39/e2/e2/3514fef126a00574b13bc0b9e23891800158df3a3c19c96e3b\n",
            "  Building wheel for keras-embed-sim (setup.py) ... \u001b[?25l\u001b[?25hdone\n",
            "  Created wheel for keras-embed-sim: filename=keras_embed_sim-0.7.0-cp36-none-any.whl size=4676 sha256=c1c8114ef95ddbdec3e0efcda28954734724b1f7262ac048ca847863969f39c5\n",
            "  Stored in directory: /root/.cache/pip/wheels/d1/bc/b1/b0c45cee4ca2e6c86586b0218ffafe7f0703c6d07fdf049866\n",
            "  Building wheel for keras-self-attention (setup.py) ... \u001b[?25l\u001b[?25hdone\n",
            "  Created wheel for keras-self-attention: filename=keras_self_attention-0.41.0-cp36-none-any.whl size=17290 sha256=12abef284bdefcd38b9d722f404fb174c9373d7f931e7b72d043028f52d88e57\n",
            "  Stored in directory: /root/.cache/pip/wheels/cc/dc/17/84258b27a04cd38ac91998abe148203720ca696186635db694\n",
            "Successfully built keras-bert keras-transformer keras-pos-embd keras-multi-head keras-layer-normalization keras-position-wise-feed-forward keras-embed-sim keras-self-attention\n",
            "Installing collected packages: keras-pos-embd, keras-self-attention, keras-multi-head, keras-layer-normalization, keras-position-wise-feed-forward, keras-embed-sim, keras-transformer, keras-bert\n",
            "Successfully installed keras-bert-0.80.0 keras-embed-sim-0.7.0 keras-layer-normalization-0.14.0 keras-multi-head-0.22.0 keras-pos-embd-0.11.0 keras-position-wise-feed-forward-0.6.0 keras-self-attention-0.41.0 keras-transformer-0.31.0\n"
          ],
          "name": "stdout"
        }
      ]
    },
    {
      "cell_type": "code",
      "metadata": {
        "id": "rDNBQE6EhsmN",
        "colab_type": "code",
        "colab": {}
      },
      "source": [
        "#CONSTANT FOR BERT\n",
        "\n",
        "SEQ_LEN = 64\n",
        "BATCH_SIZE = 128\n",
        "EPOCHS = 3\n",
        "LR = 1e-4\n",
        "\n",
        "pretrained_path = '/content/datasets/kaggle-dataset/uncased_L-12_H-768_A-12/uncased_L-12_H-768_A-12'\n",
        "config_path = '/content/datasets/kaggle-dataset/uncased_L-12_H-768_A-12/uncased_L-12_H-768_A-12/bert_config.json'\n",
        "checkpoint_path = '/content/datasets/kaggle-dataset/uncased_L-12_H-768_A-12/uncased_L-12_H-768_A-12/bert_model.ckpt'\n",
        "vocab_path = '/content/datasets/kaggle-dataset/uncased_L-12_H-768_A-12/uncased_L-12_H-768_A-12/vocab.txt'\n",
        "\n",
        "DATA_COLUMN = 'sentence_1'\n",
        "DATA_COLUMN_2 = 'sentence_2'\n",
        "LABEL_COLUMN = 'label'\n",
        "\n",
        "DF_COL =['sentence_1','sentence_2']\n",
        "DF_NEW_LABEL =['neutral','entailment','contradiction']\n",
        "DF_LABEL_COL = 'label'"
      ],
      "execution_count": 0,
      "outputs": []
    },
    {
      "cell_type": "markdown",
      "metadata": {
        "id": "7ztd-xR-jvlK",
        "colab_type": "text"
      },
      "source": [
        "# Class to preprocess BERT dataset\n",
        "\n",
        "---\n",
        "\n",
        "\n",
        "\n",
        "---\n",
        "\n"
      ]
    },
    {
      "cell_type": "code",
      "metadata": {
        "id": "ktUpoVi0j07g",
        "colab_type": "code",
        "colab": {}
      },
      "source": [
        "class BertPreProcess():\n",
        "  def __init__(self):\n",
        "    self.tokenizer = None\n",
        "\n",
        "  def fit_tokenizer(self,path):\n",
        "    token_dict = load_vocabulary(path)\n",
        "    self.tokenizer = Tokenizer(token_dict)\n",
        "\n",
        "  def parse_data(self,df,column1,column2):\n",
        "    df[column1] = df[column1].astype(str)\n",
        "    df[column2] = df[column2].astype(str)\n",
        "\n",
        "    indices, targets = [], []\n",
        "    for i in tqdm(range(len(df))):\n",
        "        ids, segments = self.tokenizer.encode(first=df[column1][i],second=df[column2][i], max_len=SEQ_LEN)\n",
        "        indices.append(ids)\n",
        "        targets.append(df['label'][i])\n",
        "    items = list(zip(indices, targets))\n",
        "    indices, targets = zip(*items)\n",
        "    indices = np.array(indices)\n",
        "\n",
        "    return [indices, np.zeros_like(indices)], np.array(targets)\n",
        "\n",
        "  def parse_prod_data(self,df,column1,column2):\n",
        "    df[column1] = df[column1].astype(str)\n",
        "    df[column2] = df[column2].astype(str)\n",
        "\n",
        "    indices, targets = [], []\n",
        "    for i in tqdm(range(len(df))):\n",
        "        ids, segments = self.tokenizer.encode(first=df[column1][i],second=df[column2][i], max_len=SEQ_LEN)\n",
        "        indices.append(ids)\n",
        "    indices = np.array(indices)\n",
        "    return [indices, np.zeros_like(indices)]\n",
        "\n",
        "  def load_train_data_and_parse_it(self, path, column1, column2):\n",
        "    df = pd.read_csv(path,delimiter=\"\\t\")\n",
        "    data_x, data_y = self.parse_data(df,column1, column2)\n",
        "    return data_x, data_y\n",
        "\n",
        "  def load_prod_data_and_parse_it(self, path, column1, column2):\n",
        "    df = pd.read_csv(path,delimiter=\"\\t\")\n",
        "    data_x = self.parse_prod_data(df,column1, column2)\n",
        "    return data_x\n",
        "\n",
        "  def process_output_label(self,y_vector):\n",
        "    dataset = pd.DataFrame({'label':y_vector})\n",
        "    for label in DF_NEW_LABEL:\n",
        "      dataset[label]=0\n",
        "      dataset[label] = dataset[DF_LABEL_COL].apply(lambda x: 1 if x == label else 0)\n",
        "\n",
        "    y=dataset[DF_NEW_LABEL]\n",
        "    return y"
      ],
      "execution_count": 0,
      "outputs": []
    },
    {
      "cell_type": "code",
      "metadata": {
        "id": "dRJhbi-nlY6u",
        "colab_type": "code",
        "outputId": "7f3ae369-c31d-46e0-b4a7-e7aa44beface",
        "colab": {
          "base_uri": "https://localhost:8080/",
          "height": 374
        }
      },
      "source": [
        "# Tokenize encode will:\n",
        "#   (1) Tokenize the sentence.\n",
        "#   (2) Prepend the `[CLS]` token to the start.\n",
        "#   (3) Append the `[SEP]` token to the end of the first sentence and also to the end of the second sentence\n",
        "#   (4) Fuse the two sentence into one sentence\n",
        "#   (5) Map tokens to their IDs.\n",
        "\n",
        "bert_pre_processing = BertPreProcess()\n",
        "bert_pre_processing.fit_tokenizer(vocab_path)\n",
        "train_x, y = bert_pre_processing.load_train_data_and_parse_it('/content/datasets/kaggle-dataset/dataset_train.csv', 'sentence_1','sentence_2')\n",
        "print(train_x[0][0])\n",
        "y=bert_pre_processing.process_output_label(y)\n",
        "print(y)"
      ],
      "execution_count": 0,
      "outputs": [
        {
          "output_type": "stream",
          "text": [
            "100%|██████████| 392662/392662 [02:44<00:00, 2384.48it/s]\n"
          ],
          "name": "stderr"
        },
        {
          "output_type": "stream",
          "text": [
            "[  101 17158  2135  6949  8301 25057  2038  2048  3937  9646  1011  4031\n",
            "  1998 10505  1012   102  4031  1998 10505  2024  2054  2191  6949  8301\n",
            " 25057  2147  1012   102     0     0     0     0     0     0     0     0\n",
            "     0     0     0     0     0     0     0     0     0     0     0     0\n",
            "     0     0     0     0     0     0     0     0     0     0     0     0\n",
            "     0     0     0     0]\n",
            "        neutral  entailment  contradiction\n",
            "0             1           0              0\n",
            "1             0           1              0\n",
            "2             0           1              0\n",
            "3             0           1              0\n",
            "4             1           0              0\n",
            "...         ...         ...            ...\n",
            "392657        0           0              1\n",
            "392658        1           0              0\n",
            "392659        0           1              0\n",
            "392660        1           0              0\n",
            "392661        1           0              0\n",
            "\n",
            "[392662 rows x 3 columns]\n"
          ],
          "name": "stdout"
        }
      ]
    },
    {
      "cell_type": "code",
      "metadata": {
        "id": "4ci-sqzPueop",
        "colab_type": "code",
        "outputId": "577a60a8-6262-406a-a7b6-b6573d8cf4d3",
        "colab": {
          "base_uri": "https://localhost:8080/",
          "height": 34
        }
      },
      "source": [
        "prod_x= bert_pre_processing.load_prod_data_and_parse_it('/content/datasets/kaggle-dataset/dataset_test_no_labels.csv', 'sentence_1','sentence_2')"
      ],
      "execution_count": 0,
      "outputs": [
        {
          "output_type": "stream",
          "text": [
            "100%|██████████| 19647/19647 [00:08<00:00, 2429.54it/s]\n"
          ],
          "name": "stderr"
        }
      ]
    },
    {
      "cell_type": "markdown",
      "metadata": {
        "id": "2QORrsnVmrLv",
        "colab_type": "text"
      },
      "source": [
        "# Creating Bert Classes for the model"
      ]
    },
    {
      "cell_type": "code",
      "metadata": {
        "id": "899H_WvOmxEm",
        "colab_type": "code",
        "colab": {}
      },
      "source": [
        "from keras.layers.merge import concatenate\n",
        "from keras.models import Model, Sequential\n",
        "from keras.layers import Dense, Input\n",
        "from keras.layers import Input, Bidirectional, LSTM, Dense\n",
        "from keras.models import Model\n",
        "\n",
        "class BertModel():\n",
        "  def __init__(self):\n",
        "    self.model = None\n",
        "\n",
        "  def load_model(self):\n",
        "    self.model = load_trained_model_from_checkpoint(\n",
        "        config_path,\n",
        "        checkpoint_path,\n",
        "        training=True,\n",
        "        trainable=True,\n",
        "        seq_len=SEQ_LEN,\n",
        "        )\n",
        "    \n",
        "  def add_bi_lstm(self):\n",
        "    inputs = self.model.inputs[:2]\n",
        "    dense = self.model.layers[-7].output\n",
        "\n",
        "    model_lstm=Model(input=inputs,outputs=[dense])\n",
        "\n",
        "    t=model_lstm.output\n",
        "    x=Bidirectional(LSTM(768,return_sequences=True))(t)\n",
        "    x=Bidirectional(LSTM(768,return_sequences=False))(x)\n",
        "\n",
        "    dense=Dense(50,activation='relu')(x)\n",
        "    output=Dense(3,activation='softmax',kernel_initializer=keras.initializers.TruncatedNormal(stddev=0.2))(dense)\n",
        "\n",
        "    self.model=Model(inputs=model_lstm.inputs,outputs=[output])\n",
        "\n",
        "  def fit_my_model(self,x,y):\n",
        "    d_steps,w_steps= calc_train_steps(\n",
        "    y.shape[0],\n",
        "    batch_size=BATCH_SIZE,\n",
        "    epochs=EPOCHS,\n",
        "    )\n",
        "    self.model.compile(\n",
        "        AdamWarmup(decay_steps=d_steps,warmup_steps=w_steps,lr=LR),\n",
        "        loss='binary_crossentropy',\n",
        "        metrics=['accuracy']\n",
        "    )\n",
        "    self.model.fit(\n",
        "        x,\n",
        "        y,\n",
        "        epochs=1,\n",
        "        batch_size=BATCH_SIZE,\n",
        "    )"
      ],
      "execution_count": 0,
      "outputs": []
    },
    {
      "cell_type": "code",
      "metadata": {
        "id": "g011QY0PsgKJ",
        "colab_type": "code",
        "outputId": "107f31f2-1ace-49bb-a59e-8e841591ca55",
        "colab": {
          "base_uri": "https://localhost:8080/",
          "height": 105
        }
      },
      "source": [
        "sess = K.get_session()\n",
        "uninitialized_variables = set([i.decode('ascii') for i in sess.run(tf.report_uninitialized_variables())])\n",
        "init_op = tf.variables_initializer(\n",
        "    [v for v in tf.global_variables() if v.name.split(':')[0] in uninitialized_variables]\n",
        ")\n",
        "sess.run(init_op)\n",
        "\n",
        "bm = BertModel()\n",
        "bm.load_model()\n",
        "bm.add_bi_lstm()\n",
        "bm.fit_my_model(train_x,y)"
      ],
      "execution_count": 0,
      "outputs": [
        {
          "output_type": "stream",
          "text": [
            "WARNING:tensorflow:From /usr/local/lib/python3.6/dist-packages/keras/backend/tensorflow_backend.py:4479: The name tf.truncated_normal is deprecated. Please use tf.random.truncated_normal instead.\n",
            "\n"
          ],
          "name": "stdout"
        },
        {
          "output_type": "stream",
          "text": [
            "/usr/local/lib/python3.6/dist-packages/ipykernel_launcher.py:24: UserWarning: Update your `Model` call to the Keras 2 API: `Model(outputs=[<tf.Tenso..., inputs=[<tf.Tenso...)`\n"
          ],
          "name": "stderr"
        },
        {
          "output_type": "stream",
          "text": [
            "Epoch 1/1\n"
          ],
          "name": "stdout"
        }
      ]
    },
    {
      "cell_type": "code",
      "metadata": {
        "id": "ne6cTnqtuxAU",
        "colab_type": "code",
        "colab": {}
      },
      "source": [
        "result = bm.model.predict(prod_x)\n",
        "\n",
        "generator = GenerateOutput()\n",
        "generator.generate_csv(result,\"/content/resultat_predict_bert.csv\")"
      ],
      "execution_count": 0,
      "outputs": []
    }
  ]
}